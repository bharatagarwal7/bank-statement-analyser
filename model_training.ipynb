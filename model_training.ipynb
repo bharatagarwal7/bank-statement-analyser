{
 "cells": [
  {
   "cell_type": "code",
   "execution_count": 17,
   "metadata": {},
   "outputs": [
    {
     "name": "stderr",
     "output_type": "stream",
     "text": [
      "[nltk_data] Downloading package stopwords to\n",
      "[nltk_data]     C:\\Users\\Bharat\\AppData\\Roaming\\nltk_data...\n",
      "[nltk_data]   Package stopwords is already up-to-date!\n"
     ]
    }
   ],
   "source": [
    "import pickle\n",
    "import tabula\n",
    "import pandas as pd\n",
    "import numpy as np\n",
    "import re\n",
    "import nltk\n",
    "nltk.download('stopwords')\n",
    "from nltk.corpus import stopwords\n",
    "from nltk.stem.porter import PorterStemmer\n",
    "df=pd.read_excel(r\"../PS2/Work/Statements/New/to_train_new/latest/final_training_data.xlsx\") #training_data"
   ]
  },
  {
   "cell_type": "code",
   "execution_count": 18,
   "metadata": {},
   "outputs": [],
   "source": [
    "df['Description']=df['Description'].apply(str)"
   ]
  },
  {
   "cell_type": "code",
   "execution_count": 19,
   "metadata": {},
   "outputs": [],
   "source": [
    "dfde=df.iloc[:,0:1] #description column i.e input feature\n",
    "dfcl=df.iloc[:,2:3] # classification column i.e output feature\n",
    "dfcl.columns=['Classification']\n",
    "dfde.columns=['Description']"
   ]
  },
  {
   "cell_type": "code",
   "execution_count": 30,
   "metadata": {
    "jupyter": {
     "source_hidden": true
    }
   },
   "outputs": [],
   "source": [
    "dfde=df.iloc[:,0:1]\n",
    "dfcl=df.iloc[:,2:3]\n",
    "dfcl.columns=['Classification']\n",
    "dfde.columns=['Description']"
   ]
  },
  {
   "cell_type": "code",
   "execution_count": 20,
   "metadata": {},
   "outputs": [],
   "source": [
    "ps=PorterStemmer()\n",
    "corpus=[]\n",
    "for i in dfde.index:\n",
    "    des=re.sub('[^a-zA-Z0-9]+',' ',dfde['Description'][i]) #removing special characters\n",
    "    des=des.lower()\n",
    "    des=[ps.stem(word) for word in des]\n",
    "    des=''.join(des)\n",
    "    des=re.sub(\"\\s\\s+\" , \" \", des) #removing multiple whitespaces\n",
    "    corpus.append(des)\n",
    "dfcl=dfcl.values.tolist()\n",
    "corpusorg=list(zip(corpus,dfcl))\n",
    "corpusorg=pd.DataFrame(corpusorg)"
   ]
  },
  {
   "cell_type": "code",
   "execution_count": 21,
   "metadata": {},
   "outputs": [],
   "source": [
    "X=corpusorg.iloc[:,0:1].values # corpus of words\n",
    "y=corpusorg.iloc[:,1].astype(str).values # corresponding o/p classification\n",
    "from sklearn.feature_extraction.text import TfidfVectorizer\n",
    "ng=TfidfVectorizer(analyzer='char_wb', ngram_range=(4,7),max_features=10000)\n",
    "X=ng.fit_transform(corpus).toarray() # corpus model"
   ]
  },
  {
   "cell_type": "code",
   "execution_count": 22,
   "metadata": {},
   "outputs": [],
   "source": [
    "X=pd.DataFrame(X)\n",
    "Y=df.iloc[:,1:2] # Type of transaction ie 2nd input feature\n",
    "frames = [X,Y] # Appending corpus and Type of transaction \n",
    "df2=pd.concat(frames,axis=1)\n",
    "input=df2.to_numpy()"
   ]
  },
  {
   "cell_type": "code",
   "execution_count": 23,
   "metadata": {},
   "outputs": [
    {
     "data": {
      "text/plain": [
       "SGDClassifier(max_iter=500, random_state=42, tol=None)"
      ]
     },
     "execution_count": 23,
     "metadata": {},
     "output_type": "execute_result"
    }
   ],
   "source": [
    "from sklearn import preprocessing\n",
    "le = preprocessing.LabelEncoder() # Encoding Classification output\n",
    "y=le.fit_transform(y)\n",
    "from sklearn.linear_model import SGDClassifier\n",
    "clf=SGDClassifier(alpha=1e-4,tol=None,random_state=42,max_iter=500)\n",
    "clf.fit(input,y)"
   ]
  },
  {
   "cell_type": "code",
   "execution_count": 24,
   "metadata": {},
   "outputs": [],
   "source": [
    "cor = \"final_10000_description_corpus.pkl\"  \n",
    "\n",
    "with open(cor, 'wb') as file:  \n",
    "    pickle.dump(ng, file)\n",
    "    \n",
    "Pkl_Filename = \"final_10000_Bank_Model.pkl\"  \n",
    "with open(Pkl_Filename, 'wb') as file:  \n",
    "    pickle.dump(clf, file)\n",
    "    \n",
    "label=\"final_10000_classification_label.pkl\"\n",
    "with open(label, 'wb') as file:  \n",
    "    pickle.dump(le,file)"
   ]
  }
 ],
 "metadata": {
  "kernelspec": {
   "display_name": "Python 3",
   "language": "python",
   "name": "python3"
  },
  "language_info": {
   "codemirror_mode": {
    "name": "ipython",
    "version": 3
   },
   "file_extension": ".py",
   "mimetype": "text/x-python",
   "name": "python",
   "nbconvert_exporter": "python",
   "pygments_lexer": "ipython3",
   "version": "3.8.5"
  }
 },
 "nbformat": 4,
 "nbformat_minor": 4
}
